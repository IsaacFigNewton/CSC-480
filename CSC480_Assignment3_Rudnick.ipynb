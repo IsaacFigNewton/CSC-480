{
  "nbformat": 4,
  "nbformat_minor": 0,
  "metadata": {
    "colab": {
      "provenance": [],
      "authorship_tag": "ABX9TyO/Uz5q3d8/n6gNDZE9mJoF",
      "include_colab_link": true
    },
    "kernelspec": {
      "name": "python3",
      "display_name": "Python 3"
    },
    "language_info": {
      "name": "python"
    }
  },
  "cells": [
    {
      "cell_type": "markdown",
      "metadata": {
        "id": "view-in-github",
        "colab_type": "text"
      },
      "source": [
        "<a href=\"https://colab.research.google.com/github/IsaacFigNewton/CSC-480/blob/main/CSC480_Assignment3_Rudnick.ipynb\" target=\"_parent\"><img src=\"https://colab.research.google.com/assets/colab-badge.svg\" alt=\"Open In Colab\"/></a>"
      ]
    },
    {
      "cell_type": "markdown",
      "source": [
        "# Import and Config"
      ],
      "metadata": {
        "id": "FjAMXM9rQeeG"
      }
    },
    {
      "cell_type": "code",
      "execution_count": 44,
      "metadata": {
        "id": "NAlEhmJQQNnP"
      },
      "outputs": [],
      "source": [
        "import numpy as np\n",
        "import pandas as pd\n",
        "import matplotlib.pyplot as plt\n",
        "import seaborn as sns\n",
        "\n",
        "import sklearn\n",
        "import sklearn.datasets\n",
        "from sklearn.model_selection import train_test_split\n",
        "from sklearn.preprocessing import StandardScaler\n",
        "from sklearn.metrics import (\n",
        "    confusion_matrix,\n",
        "    accuracy_score,\n",
        "    f1_score,\n",
        "    precision_score,\n",
        "    recall_score\n",
        ")\n",
        "\n",
        "import tensorflow as tf\n",
        "from tensorflow.keras.utils import to_categorical\n",
        "from tensorflow.keras.models import Sequential\n",
        "from tensorflow.keras.layers import (\n",
        "    Input,\n",
        "    Dense,\n",
        "    Conv2D,\n",
        "    MaxPooling2D,\n",
        "    Flatten\n",
        ")"
      ]
    },
    {
      "cell_type": "code",
      "source": [
        "batch_size = 50"
      ],
      "metadata": {
        "id": "futQMwu8Dde6"
      },
      "execution_count": 12,
      "outputs": []
    },
    {
      "cell_type": "code",
      "source": [
        "# Load the dataset and display the first image to make sure it loaded correctly\n",
        "dataset = sklearn.datasets.load_digits()\n",
        "plt.matshow(dataset.images[0], cmap=\"gray\")\n",
        "plt.show()"
      ],
      "metadata": {
        "colab": {
          "base_uri": "https://localhost:8080/",
          "height": 437
        },
        "id": "2ibFaz0NR0kk",
        "outputId": "2262990f-3356-4cd1-8acc-e24c62e256e1"
      },
      "execution_count": 38,
      "outputs": [
        {
          "output_type": "display_data",
          "data": {
            "text/plain": [
              "<Figure size 480x480 with 1 Axes>"
            ],
            "image/png": "[encoded data removed]"
          },
          "metadata": {}
        }
      ]
    },
    {
      "cell_type": "markdown",
      "source": [
        "# Preprocessing\n",
        "- Split the dataset into training, validation, and test sets\n",
        "- Normalize or scale the input features as needed (e.g., scale pixel values to [0,1])."
      ],
      "metadata": {
        "id": "CDGtII0wQhrN"
      }
    },
    {
      "cell_type": "code",
      "source": [
        "# Split dataset into train/test, validation sets (90-10 split)\n",
        "X_train_validate, X_test, y_train_validate, y_test = train_test_split(\n",
        "    dataset.data,\n",
        "    dataset.target,\n",
        "    test_size=0.1,\n",
        "    random_state=69\n",
        ")\n",
        "\n",
        "# Split dataset into train, test sets (80-20 split)\n",
        "X_train, X_validate, y_train, y_validate = train_test_split(\n",
        "    X_train_validate,\n",
        "    y_train_validate,\n",
        "    test_size=0.2,\n",
        "    random_state=69\n",
        ")\n",
        "\n",
        "# Standardize the train and test sets according to best practices: https://stackoverflow.com/questions/49444262/normalize-data-before-or-after-split-of-training-and-testing-data\n",
        "scaler = StandardScaler()\n",
        "X_train = scaler.fit_transform(X_train)\n",
        "X_validate = scaler.transform(X_validate)\n",
        "X_test = scaler.transform(X_test)\n",
        "\n",
        "# reshape the input sets for 2D image format\n",
        "X_train = X_train.reshape(X_train.shape[0], 8, 8, 1)\n",
        "X_validate = X_validate.reshape(X_validate.shape[0], 8, 8, 1)\n",
        "X_test = X_test.reshape(X_test.shape[0], 8, 8, 1)\n",
        "\n",
        "\n",
        "# One-hot encode the sets\n",
        "y_train = to_categorical(y_train)\n",
        "y_validate = to_categorical(y_validate)\n",
        "y_test = to_categorical(y_test)\n",
        "\n",
        "print(\"Train set:\")\n",
        "print(f\"X_train shape: {X_train.shape}\")\n",
        "print(f\"y_train shape: {y_train.shape}\")\n",
        "print()\n",
        "print(\"Validation set:\")\n",
        "print(f\"X_validate shape: {X_validate.shape}\")\n",
        "print(f\"y_validate shape: {y_validate.shape}\")\n",
        "print()\n",
        "print(\"Test set:\")\n",
        "print(f\"X_test shape: {X_test.shape}\")\n",
        "print(f\"y_test shape: {y_test.shape}\")"
      ],
      "metadata": {
        "colab": {
          "base_uri": "https://localhost:8080/"
        },
        "id": "jZ7HCx8PUqww",
        "outputId": "3ef9b557-6f5d-4b65-bb2a-d1e4700c1b13"
      },
      "execution_count": 45,
      "outputs": [
        {
          "output_type": "stream",
          "name": "stdout",
          "text": [
            "Train set:\n",
            "X_train shape: (1293, 8, 8, 1)\n",
            "y_train shape: (1293, 10)\n",
            "\n",
            "Validation set:\n",
            "X_validate shape: (324, 8, 8, 1)\n",
            "y_validate shape: (324, 10)\n",
            "\n",
            "Test set:\n",
            "X_test shape: (180, 8, 8, 1)\n",
            "y_test shape: (180, 10)\n"
          ]
        }
      ]
    },
    {
      "cell_type": "markdown",
      "source": [
        "# Neural Network Implementation\n",
        "- Implement a neural network using PyTorch or TensorFlow.\n",
        "- Include at least one hidden layer.\n",
        "- Choose appropriate activation functions (e.g., ReLU, sigmoid).\n",
        "- Use a suitable loss function\n",
        "- Select an optimizer and tune hyperparameters (e.g., learning rate)."
      ],
      "metadata": {
        "id": "1OoJ93fWQnid"
      }
    },
    {
      "cell_type": "code",
      "source": [
        "# Architecture: a CNN with the following pipeline:\n",
        "# - convolution layer with a 3x3 kernel, no padding, 4 filters, to get a 6x6x4 output\n",
        "# - max pooling layer with a 3x3 kernel, no padding to get an 4x4x4 output\n",
        "# - convolution layer with a 2x2 kernel, no padding, 8 filters, to get a 3x3x8 output\n",
        "# - max pooling layer with a 2x2 kernel, no padding to get an 2x2x8 output\n",
        "# - flatten the 2x2x8 output into a 32x1 vector\n",
        "# - 32x10 fully connected layer\n",
        "# softmax activation function on output layer\n",
        "# Also, cross-entropy loss f'n, ReLU f'n for all hidden layers\n",
        "\n",
        "model = tf.keras.models.Sequential([\n",
        "  Input(shape=(8, 8, 1)),\n",
        "  Conv2D(\n",
        "      filters=4,\n",
        "      kernel_size=(3, 3),\n",
        "      strides=(1, 1),\n",
        "      padding=\"same\",\n",
        "      activation=\"relu\"\n",
        "  ),\n",
        "  MaxPooling2D(\n",
        "      pool_size=(3, 3),\n",
        "      padding=\"same\"\n",
        "  ),\n",
        "  Conv2D(\n",
        "      filters=4,\n",
        "      kernel_size=(2, 2),\n",
        "      strides=(1, 1),\n",
        "      padding=\"same\",\n",
        "      activation=\"relu\"\n",
        "  ),\n",
        "  MaxPooling2D(\n",
        "      pool_size=(2, 2),\n",
        "      padding=\"same\"\n",
        "  ),\n",
        "  Flatten(),\n",
        "  Dense(\n",
        "      units=32,\n",
        "      activation=\"relu\"\n",
        "  ),\n",
        "  Dense(\n",
        "      units=10,\n",
        "      activation=\"softmax\"\n",
        "  )\n",
        "])"
      ],
      "metadata": {
        "id": "TWvUUEerQoKs"
      },
      "execution_count": 46,
      "outputs": []
    },
    {
      "cell_type": "markdown",
      "source": [
        "# Training and Validation\n",
        "- Train the model on the training set for a reasonable number of epochs.\n",
        "- Monitor performance on the validation set to prevent overfitting (e.g., early stopping or learning rate scheduling).\n",
        "- Plot training and validation loss/accuracy over epochs."
      ],
      "metadata": {
        "id": "c-bu9WPVQyYv"
      }
    },
    {
      "cell_type": "code",
      "source": [
        "# test model\n",
        "model(X_train[:1]).numpy()"
      ],
      "metadata": {
        "colab": {
          "base_uri": "https://localhost:8080/"
        },
        "id": "IT4D1W-9JNBO",
        "outputId": "b99d08f0-955f-478d-dd8f-f9685e26c931"
      },
      "execution_count": 48,
      "outputs": [
        {
          "output_type": "execute_result",
          "data": {
            "text/plain": [
              "array([[0.09512168, 0.28281793, 0.13678396, 0.11620615, 0.07927565,\n",
              "        0.07149648, 0.06896149, 0.06823062, 0.06436016, 0.0167459 ]],\n",
              "      dtype=float32)"
            ]
          },
          "metadata": {},
          "execution_count": 48
        }
      ]
    },
    {
      "cell_type": "markdown",
      "source": [
        "## Training"
      ],
      "metadata": {
        "id": "jzhSzpivQrB2"
      }
    },
    {
      "cell_type": "code",
      "source": [],
      "metadata": {
        "id": "ZWcsjXUfQsG-"
      },
      "execution_count": null,
      "outputs": []
    },
    {
      "cell_type": "markdown",
      "source": [
        "## Validation"
      ],
      "metadata": {
        "id": "ba23MMYVQsfm"
      }
    },
    {
      "cell_type": "code",
      "source": [],
      "metadata": {
        "id": "V31wzSd8Qtgr"
      },
      "execution_count": null,
      "outputs": []
    },
    {
      "cell_type": "markdown",
      "source": [
        "# Evaluation\n",
        "- Report the accuracy on the test set.\n",
        "- Provide a confusion matrix to analyze model performance across classes."
      ],
      "metadata": {
        "id": "BjR7-W61Q0mm"
      }
    },
    {
      "cell_type": "code",
      "source": [],
      "metadata": {
        "id": "jMSG_vydQ1PA"
      },
      "execution_count": null,
      "outputs": []
    }
  ]
}