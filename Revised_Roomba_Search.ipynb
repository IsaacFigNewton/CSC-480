{
  "nbformat": 4,
  "nbformat_minor": 0,
  "metadata": {
    "colab": {
      "provenance": [],
      "authorship_tag": "ABX9TyOCjUs6oONvL21YeiDaM2Hk",
      "include_colab_link": true
    },
    "kernelspec": {
      "name": "python3",
      "display_name": "Python 3"
    },
    "language_info": {
      "name": "python"
    }
  },
  "cells": [
    {
      "cell_type": "markdown",
      "metadata": {
        "id": "view-in-github",
        "colab_type": "text"
      },
      "source": [
        "<a href=\"https://colab.research.google.com/github/IsaacFigNewton/CSC-480/blob/main/Revised_Roomba_Search.ipynb\" target=\"_parent\"><img src=\"https://colab.research.google.com/assets/colab-badge.svg\" alt=\"Open In Colab\"/></a>"
      ]
    },
    {
      "cell_type": "markdown",
      "source": [
        "# Config"
      ],
      "metadata": {
        "id": "SR7vlR6x1Bp4"
      }
    },
    {
      "cell_type": "code",
      "source": [
        "import networkx as nx\n",
        "import json\n",
        "import random\n",
        "import numpy as np\n",
        "import heapq as hq\n",
        "\n",
        "contents = \"\"\"7\n",
        "5\n",
        "_#a____\n",
        "___#__#\n",
        "*__#_*_\n",
        "_______\n",
        "____*__\n",
        "\"\"\"\n",
        "\n",
        "# save an offset map\n",
        "offset_map = {\n",
        "    # idx 0 => row offset\n",
        "    # idx 1 => col offset\n",
        "    \"N\": (-1, 0),\n",
        "    \"S\": (1, 0),\n",
        "    \"E\": (0, 1),\n",
        "    \"W\": (0, -1)\n",
        "}"
      ],
      "metadata": {
        "id": "ABAJPpSl1DuP"
      },
      "execution_count": 26,
      "outputs": []
    },
    {
      "cell_type": "markdown",
      "source": [
        "## Helpers"
      ],
      "metadata": {
        "id": "t2fLZ5zqws9Z"
      }
    },
    {
      "cell_type": "markdown",
      "source": [
        "## GameTree Class"
      ],
      "metadata": {
        "id": "7QTGXatXu-sJ"
      }
    },
    {
      "cell_type": "code",
      "source": [
        "# ensure the move is not OOB and not blocked by an obstacle\n",
        "def is_legal_move(world, current_pos, proposed_pos):\n",
        "  # check adjacency\n",
        "  if not (proposed_pos[0] - current_pos[0], proposed_pos[1] - current_pos[1]) in offset_map.values():\n",
        "    return False\n",
        "  # check if the row idx is OOB\n",
        "  if proposed_pos[0] < 0 or proposed_pos[0] >= world.num_rows:\n",
        "    return False\n",
        "  # check if the row idx is OOB\n",
        "  if proposed_pos[1] < 0 or proposed_pos[1] >= world.num_cols:\n",
        "    return False\n",
        "  # check for obstacles\n",
        "  if world.grid[proposed_pos[0]][proposed_pos[1]] == \"#\":\n",
        "    return False\n",
        "  return True"
      ],
      "metadata": {
        "id": "0MmTFxWbDYMu"
      },
      "execution_count": 27,
      "outputs": []
    },
    {
      "cell_type": "code",
      "source": [
        "class GameTreeNode:\n",
        "  def __init__(self, pos:tuple[int, int]):\n",
        "    self.pos = pos\n",
        "    # a set of child game states of the form:\n",
        "    #   (<edge type (N, S, E, W)>, <new GameTreeNode>)\n",
        "    self.children = set()\n",
        "\n",
        "  def __hash__(self):\n",
        "    return hash(self.pos)\n",
        "\n",
        "  def get_proposed_move_pos(self, move):\n",
        "    diff = offset_map[move]\n",
        "    return (\n",
        "        self.pos[0] + diff[0],\n",
        "        self.pos[1] + diff[1]\n",
        "    )\n",
        "\n",
        "  def expand_children(self):\n",
        "    # create a list of possible moves\n",
        "    possible_moves = {\n",
        "        move: self.get_proposed_move_pos(move)\n",
        "        for move in offset_map.keys()\n",
        "    }\n",
        "    # filter it down to a list of legal moves\n",
        "    for move, new_pos in possible_moves.items():\n",
        "      if is_legal_move(world, self.pos, new_pos):\n",
        "        self.children.add(Action(move, GameTreeNode(new_pos)))\n",
        "\n",
        "\n",
        "class Action:\n",
        "  def __init__(self, act_type:str, end_state:GameTreeNode):\n",
        "    self.act_type = act_type\n",
        "    self.end_state = end_state\n",
        "\n",
        "  def __hash__(self):\n",
        "    return hash(self.end_state.pos)\n",
        "\n",
        "  def __lt__(self, other):\n",
        "      return self.end_state.pos < other.end_state.pos\n",
        "\n",
        "  def __gt__(self, other):\n",
        "      return self.end_state.pos > other.end_state.pos\n",
        "\n",
        "\n",
        "class Heuristic:\n",
        "  def __init__(self, current_pos, function):\n",
        "    self.pos = current_pos\n",
        "    self.function = function\n",
        "\n",
        "  def __call__(self, goal_pos):\n",
        "    return self.function(self.current_pos, goal_pos)\n",
        "\n",
        "\n",
        "class DecisionProcess:\n",
        "  def __init__(self,\n",
        "               act_store_type:str=\"stack\"):\n",
        "    if act_store_type == \"stack\":\n",
        "      self.act_store = list()\n",
        "    elif act_store_type == \"priority queue\":\n",
        "      self.act_store = list()\n",
        "      hq.heapify(self.act_store)\n",
        "\n",
        "    self.act_store_type = act_store_type\n",
        "\n",
        "  def push(self, action:Action, heuristic):\n",
        "    match self.act_store_type:\n",
        "      case \"stack\":\n",
        "        self.act_store.append(action)\n",
        "      case \"priority queue\":\n",
        "        hq.heappush(\n",
        "            self.act_store,\n",
        "            (heuristic(action.end_state.pos), action)\n",
        "        )\n",
        "\n",
        "  def pop(self):\n",
        "    match self.act_store_type:\n",
        "      case \"stack\":\n",
        "        return self.act_store.pop()\n",
        "      case \"priority queue\":\n",
        "        return hq.heappop(self.act_store)[1]\n",
        "\n",
        "  def remove(self, action:Action):\n",
        "    match self.act_store_type:\n",
        "      case \"stack\":\n",
        "        self.act_store.pop(action)\n",
        "      case \"priority queue\":\n",
        "        self.act_store = hq.heapify([\n",
        "            a for a in self.act_store\n",
        "            if a[1] != action\n",
        "        ])"
      ],
      "metadata": {
        "id": "F1ndcHEonCri"
      },
      "execution_count": 32,
      "outputs": []
    },
    {
      "cell_type": "code",
      "source": [
        "class World:\n",
        "  def __init__(self, file_contents:str):\n",
        "    world_lst = file_contents.split(\"\\n\")\n",
        "    self.num_cols = int(world_lst[0])\n",
        "    self.num_rows = int(world_lst[1])\n",
        "\n",
        "    self.grid = list()\n",
        "    self.dirty_cells = set()\n",
        "    for i, row in enumerate(world_lst[2:-1]):\n",
        "      self.grid.append(list())\n",
        "      for j, c in enumerate(row):\n",
        "        self.grid[i].append(c)\n",
        "        if c == \"*\":\n",
        "          self.dirty_cells.add((i, j))\n",
        "    print(\"Successfully loaded world:\")\n",
        "    for row in self.grid:\n",
        "      print(row)\n",
        "\n",
        "    self.heuristic_map = {\n",
        "        \"DFS\": None,\n",
        "        \"UCS\": lambda start, end: (end[0]-start[0], end[1]-start[1])\n",
        "    }\n",
        "\n",
        "    self.act_store_map = {\n",
        "        \"DFS\": DecisionProcess(\n",
        "            act_store_type=\"stack\"\n",
        "        ),\n",
        "        \"UCS\": DecisionProcess(\n",
        "            act_store_type=\"priority queue\"\n",
        "        )\n",
        "    }\n",
        "    print(self.act_store_map[\"UCS\"].act_store)\n",
        "\n",
        "\n",
        "  def get_bot_pos_from_grid(self):\n",
        "    for row in range(self.num_rows):\n",
        "      for col in range(self.num_cols):\n",
        "        if self.grid[row][col] == \"a\":\n",
        "          return (row, col)\n",
        "    raise ValueError(\"No bot found in the grid\")\n",
        "\n",
        "\n",
        "  # depth-first search\n",
        "  def search(self, algorithm:str = \"DFS\"):\n",
        "    agent = Agent(\n",
        "        world=world,\n",
        "        decision_process=self.act_store_map[algorithm],\n",
        "        heuristic=self.heuristic_map[algorithm]\n",
        "    )\n",
        "\n",
        "    while self.dirty_cells:\n",
        "      agent.select_action()\n",
        "      # print([node[1].pos for node in agent.stack])\n",
        "      # print(agent.world.dirt_count)\n",
        "    print(f\"{agent.nodes_generated} nodes generated.\")\n",
        "    print(f\"{agent.nodes_expanded} nodes expanded.\")\n",
        "\n",
        "\n",
        "\n",
        "class Agent:\n",
        "  def __init__(self,\n",
        "               world: World,\n",
        "               decision_process: DecisionProcess,\n",
        "               heuristic=None):\n",
        "    # vars for tracking position within game tree for DFS and UCS\n",
        "    self.world = world\n",
        "\n",
        "    self.current_path = list()\n",
        "    self.pos = self.world.get_bot_pos_from_grid()\n",
        "    # curry the heuristic with the\n",
        "    self.heuristic = lambda x: heuristic(self.pos, x) if heuristic else None\n",
        "    self.dp = decision_process\n",
        "\n",
        "    self.model = GameTreeNode(self.pos)\n",
        "    self.nodes_generated = 0\n",
        "    self.nodes_expanded = 0\n",
        "\n",
        "\n",
        "  def select_action(self):\n",
        "      # if the bot is on dirt, clean it\n",
        "      if self.world.grid[self.pos[0]][self.pos[1]] == \"*\":\n",
        "          print(\"V\")\n",
        "          self.world.dirty_cells.remove(self.pos)\n",
        "          self.world.grid[self.pos[0]][self.pos[1]] = \"_\"\n",
        "          return\n",
        "\n",
        "      # add the current node to the path\n",
        "      self.current_path.append(self.pos)\n",
        "\n",
        "      # expand all the current node's children\n",
        "      self.model.expand_children()\n",
        "      self.nodes_expanded += 1\n",
        "      self.nodes_generated += len(self.model.children)\n",
        "      for child in self.model.children:\n",
        "        # add new, unexplored children to the set under consideration\n",
        "        if child.end_state.pos not in self.current_path:\n",
        "          self.dp.push(child, self.heuristic)\n",
        "\n",
        "      # take the first available new move\n",
        "      next_move = self.dp.pop()\n",
        "      print(next_move.act_type)\n",
        "      # print(next_move[0], next_move[1].pos)\n",
        "      self.pos = next_move.end_state.pos\n",
        "      self.model = next_move.end_state"
      ],
      "metadata": {
        "id": "UCsYuoKXESZk"
      },
      "execution_count": 33,
      "outputs": []
    },
    {
      "cell_type": "markdown",
      "source": [
        "# Test DFS"
      ],
      "metadata": {
        "id": "rpRiDy1Iwv0s"
      }
    },
    {
      "cell_type": "code",
      "source": [
        "world = World(contents)"
      ],
      "metadata": {
        "colab": {
          "base_uri": "https://localhost:8080/"
        },
        "id": "uEBKBcciwx-3",
        "outputId": "14e881d9-ddf7-4b83-84a8-8f31b5c8fd6e"
      },
      "execution_count": 38,
      "outputs": [
        {
          "output_type": "stream",
          "name": "stdout",
          "text": [
            "Successfully loaded world:\n",
            "['_', '#', 'a', '_', '_', '_', '_']\n",
            "['_', '_', '_', '#', '_', '_', '#']\n",
            "['*', '_', '_', '#', '_', '*', '_']\n",
            "['_', '_', '_', '_', '_', '_', '_']\n",
            "['_', '_', '_', '_', '*', '_', '_']\n",
            "[]\n"
          ]
        }
      ]
    },
    {
      "cell_type": "code",
      "source": [
        "world.search(\"DFS\")"
      ],
      "metadata": {
        "colab": {
          "base_uri": "https://localhost:8080/"
        },
        "id": "scZrlNYB8f_d",
        "outputId": "a2a3e0f3-941e-42b8-bf4b-75856284164a"
      },
      "execution_count": 39,
      "outputs": [
        {
          "output_type": "stream",
          "name": "stdout",
          "text": [
            "E\n",
            "E\n",
            "E\n",
            "S\n",
            "S\n",
            "V\n",
            "S\n",
            "E\n",
            "N\n",
            "S\n",
            "W\n",
            "W\n",
            "V\n",
            "W\n",
            "W\n",
            "W\n",
            "W\n",
            "N\n",
            "N\n",
            "V\n",
            "48 nodes generated.\n",
            "17 nodes expanded.\n"
          ]
        }
      ]
    },
    {
      "cell_type": "code",
      "source": [
        "for r in world.grid:\n",
        "  print(r)"
      ],
      "metadata": {
        "colab": {
          "base_uri": "https://localhost:8080/"
        },
        "id": "-XCq2CLxSso4",
        "outputId": "2fa37cb0-f334-4534-ef45-c96ae0843029"
      },
      "execution_count": 36,
      "outputs": [
        {
          "output_type": "stream",
          "name": "stdout",
          "text": [
            "['_', '#', 'a', '_', '_', '_', '_']\n",
            "['_', '_', '_', '#', '_', '_', '#']\n",
            "['_', '_', '_', '#', '_', '_', '_']\n",
            "['_', '_', '_', '_', '_', '_', '_']\n",
            "['_', '_', '_', '_', '_', '_', '_']\n"
          ]
        }
      ]
    },
    {
      "cell_type": "code",
      "source": [],
      "metadata": {
        "id": "XkbKUy_gxUsf"
      },
      "execution_count": null,
      "outputs": []
    }
  ]
}