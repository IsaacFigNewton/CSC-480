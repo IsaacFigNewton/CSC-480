{
  "nbformat": 4,
  "nbformat_minor": 0,
  "metadata": {
    "colab": {
      "provenance": [],
      "authorship_tag": "ABX9TyNPWPqirhG5iR679OEqo7xJ",
      "include_colab_link": true
    },
    "kernelspec": {
      "name": "python3",
      "display_name": "Python 3"
    },
    "language_info": {
      "name": "python"
    }
  },
  "cells": [
    {
      "cell_type": "markdown",
      "metadata": {
        "id": "view-in-github",
        "colab_type": "text"
      },
      "source": [
        "<a href=\"https://colab.research.google.com/github/IsaacFigNewton/CSC-480/blob/main/Revised_Roomba_Search.ipynb\" target=\"_parent\"><img src=\"https://colab.research.google.com/assets/colab-badge.svg\" alt=\"Open In Colab\"/></a>"
      ]
    },
    {
      "cell_type": "markdown",
      "source": [
        "# Config"
      ],
      "metadata": {
        "id": "SR7vlR6x1Bp4"
      }
    },
    {
      "cell_type": "code",
      "source": [
        "import networkx as nx\n",
        "import json\n",
        "import random\n",
        "import numpy as np\n",
        "\n",
        "contents = \"\"\"7\n",
        "5\n",
        "_#a____\n",
        "___#__#\n",
        "*__#_*_\n",
        "_______\n",
        "____*__\n",
        "\"\"\"\n",
        "\n",
        "# save an offset map\n",
        "offset_map = {\n",
        "    # idx 0 => row offset\n",
        "    # idx 1 => col offset\n",
        "    \"N\": (-1, 0),\n",
        "    \"S\": (1, 0),\n",
        "    \"E\": (0, 1),\n",
        "    \"W\": (0, -1)\n",
        "}"
      ],
      "metadata": {
        "id": "ABAJPpSl1DuP"
      },
      "execution_count": 1,
      "outputs": []
    },
    {
      "cell_type": "markdown",
      "source": [
        "## Helpers"
      ],
      "metadata": {
        "id": "t2fLZ5zqws9Z"
      }
    },
    {
      "cell_type": "markdown",
      "source": [
        "## GameTree Class"
      ],
      "metadata": {
        "id": "7QTGXatXu-sJ"
      }
    },
    {
      "cell_type": "code",
      "source": [
        "class World:\n",
        "  def __init__(self, file_contents:str):\n",
        "    world_lst = file_contents.split(\"\\n\")\n",
        "    self.num_cols = int(world_lst[0])\n",
        "    self.num_rows = int(world_lst[1])\n",
        "    self.grid = [[c for c in row] for row in world_lst[2:-1]]\n",
        "    self.dirt_count = np.sum([np.sum([1 for c in row if c == \"*\"]) for row in self.grid])\n",
        "\n",
        "    print(\"Successfully loaded world:\")\n",
        "    for row in self.grid:\n",
        "      print(row)\n",
        "\n",
        "\n",
        "# ensure the move is not OOB and not blocked by an obstacle\n",
        "def is_legal_move(world, current_pos, proposed_pos):\n",
        "  # check adjacency\n",
        "  if not (proposed_pos[0] - current_pos[0], proposed_pos[1] - current_pos[1]) in offset_map.values():\n",
        "    return False\n",
        "  # check if the row idx is OOB\n",
        "  if proposed_pos[0] < 0 or proposed_pos[0] >= world.num_rows:\n",
        "    return False\n",
        "  # check if the row idx is OOB\n",
        "  if proposed_pos[1] < 0 or proposed_pos[1] >= world.num_cols:\n",
        "    return False\n",
        "  # check for obstacles\n",
        "  if world.grid[proposed_pos[0]][proposed_pos[1]] == \"#\":\n",
        "    return False\n",
        "  return True"
      ],
      "metadata": {
        "id": "0MmTFxWbDYMu"
      },
      "execution_count": 2,
      "outputs": []
    },
    {
      "cell_type": "code",
      "source": [
        "class Agent:\n",
        "  def __init__(self, world: World):\n",
        "    # vars for tracking position within game tree for DFS and UCS\n",
        "    self.world = world\n",
        "    self.stack = list()\n",
        "    self.path = list()\n",
        "    self.pos = self.get_bot_pos_from_grid()\n",
        "    self.model = GameTreeNode(self.pos)\n",
        "\n",
        "\n",
        "  def get_bot_pos_from_grid(self):\n",
        "    for row in range(self.world.num_rows):\n",
        "      for col in range(self.world.num_cols):\n",
        "        if self.world.grid[row][col] == \"a\":\n",
        "          return (row, col)\n",
        "    raise ValueError(\"No bot found in the grid\")\n",
        "\n",
        "\n",
        "\n",
        "  def select_action(self):\n",
        "      # if the bot is on dirt, clean it\n",
        "      if self.world.grid[self.pos[0]][self.pos[1]] == \"*\":\n",
        "          print(\"V\")\n",
        "          self.world.dirt_count -= 1\n",
        "          self.world.grid[self.pos[0]][self.pos[1]] = \"_\"\n",
        "          return\n",
        "\n",
        "      # add the current node to the path\n",
        "      self.path.append(self.pos)\n",
        "\n",
        "      # expand all the current node's children\n",
        "      self.model.expand_children(self.world)\n",
        "      for child in self.model.children:\n",
        "        # add new, unexplored children to the stack\n",
        "        if child[1].pos not in self.path:\n",
        "          self.stack.append(child)\n",
        "\n",
        "      # take the first available new move\n",
        "      next_move = self.stack.pop()\n",
        "      print(next_move[0], next_move[1].pos)\n",
        "      self.pos = next_move[1].pos\n",
        "      self.model = next_move[1]"
      ],
      "metadata": {
        "id": "UCsYuoKXESZk"
      },
      "execution_count": 7,
      "outputs": []
    },
    {
      "cell_type": "code",
      "source": [
        "class GameTreeNode:\n",
        "  def __init__(self, pos):\n",
        "    self.pos = pos\n",
        "    # a set of child game states of the form:\n",
        "    #   (<edge type (N, S, E, W)>, <new GameTreeNode>)\n",
        "    self.children = set()\n",
        "\n",
        "\n",
        "  def __hash__(self):\n",
        "    return hash(self.pos)\n",
        "\n",
        "\n",
        "  def get_proposed_move_pos(self, move):\n",
        "    diff = offset_map[move]\n",
        "    return (\n",
        "        self.pos[0] + diff[0],\n",
        "        self.pos[1] + diff[1]\n",
        "    )\n",
        "\n",
        "\n",
        "  def expand_children(self, world: World):\n",
        "    # create a list of possible moves\n",
        "    possible_moves = {\n",
        "        move: self.get_proposed_move_pos(move)\n",
        "        for move in offset_map.keys()\n",
        "    }\n",
        "    # filter it down to a list of legal moves\n",
        "    for move, new_pos in possible_moves.items():\n",
        "      if is_legal_move(world, self.pos, new_pos):\n",
        "        self.children.add((move, GameTreeNode(new_pos)))\n",
        "\n",
        "\n",
        "  def prune_child(self, pos):\n",
        "    del self.children[pos]"
      ],
      "metadata": {
        "id": "GEUNLx4WV13L"
      },
      "execution_count": 8,
      "outputs": []
    },
    {
      "cell_type": "markdown",
      "source": [
        "# Test DFS"
      ],
      "metadata": {
        "id": "rpRiDy1Iwv0s"
      }
    },
    {
      "cell_type": "code",
      "source": [
        "world = World(contents)\n",
        "agent = Agent(world)"
      ],
      "metadata": {
        "colab": {
          "base_uri": "https://localhost:8080/"
        },
        "id": "uEBKBcciwx-3",
        "outputId": "3a4f67df-1bc7-414a-d8eb-f6376b8b3c11"
      },
      "execution_count": 12,
      "outputs": [
        {
          "output_type": "stream",
          "name": "stdout",
          "text": [
            "Successfully loaded world:\n",
            "['_', '#', 'a', '_', '_', '_', '_']\n",
            "['_', '_', '_', '#', '_', '_', '#']\n",
            "['*', '_', '_', '#', '_', '*', '_']\n",
            "['_', '_', '_', '_', '_', '_', '_']\n",
            "['_', '_', '_', '_', '*', '_', '_']\n"
          ]
        }
      ]
    },
    {
      "cell_type": "code",
      "source": [
        "i = 100\n",
        "while world.dirt_count > 0 and i > 0:\n",
        "  agent.select_action()\n",
        "  print([node[1].pos for node in agent.stack])\n",
        "  print(agent.world.dirt_count)\n",
        "  i -= 1"
      ],
      "metadata": {
        "colab": {
          "base_uri": "https://localhost:8080/"
        },
        "id": "scZrlNYB8f_d",
        "outputId": "ce44d4d3-a43e-467c-bbe3-ca737d33227c"
      },
      "execution_count": 13,
      "outputs": [
        {
          "output_type": "stream",
          "name": "stdout",
          "text": [
            "E (0, 3)\n",
            "[(1, 2)]\n",
            "3.0\n",
            "E (0, 4)\n",
            "[(1, 2)]\n",
            "3.0\n",
            "S (1, 4)\n",
            "[(1, 2), (0, 5)]\n",
            "3.0\n",
            "E (1, 5)\n",
            "[(1, 2), (0, 5), (2, 4)]\n",
            "3.0\n",
            "N (0, 5)\n",
            "[(1, 2), (0, 5), (2, 4), (2, 5)]\n",
            "3.0\n",
            "E (0, 6)\n",
            "[(1, 2), (0, 5), (2, 4), (2, 5)]\n",
            "3.0\n",
            "S (2, 5)\n",
            "[(1, 2), (0, 5), (2, 4)]\n",
            "3.0\n",
            "V\n",
            "[(1, 2), (0, 5), (2, 4)]\n",
            "2.0\n",
            "E (2, 6)\n",
            "[(1, 2), (0, 5), (2, 4), (2, 4), (3, 5)]\n",
            "2.0\n",
            "S (3, 6)\n",
            "[(1, 2), (0, 5), (2, 4), (2, 4), (3, 5)]\n",
            "2.0\n",
            "S (4, 6)\n",
            "[(1, 2), (0, 5), (2, 4), (2, 4), (3, 5), (3, 5)]\n",
            "2.0\n",
            "W (4, 5)\n",
            "[(1, 2), (0, 5), (2, 4), (2, 4), (3, 5), (3, 5)]\n",
            "2.0\n",
            "N (3, 5)\n",
            "[(1, 2), (0, 5), (2, 4), (2, 4), (3, 5), (3, 5), (4, 4)]\n",
            "2.0\n",
            "W (3, 4)\n",
            "[(1, 2), (0, 5), (2, 4), (2, 4), (3, 5), (3, 5), (4, 4)]\n",
            "2.0\n",
            "N (2, 4)\n",
            "[(1, 2), (0, 5), (2, 4), (2, 4), (3, 5), (3, 5), (4, 4), (3, 3), (4, 4)]\n",
            "2.0\n",
            "S (4, 4)\n",
            "[(1, 2), (0, 5), (2, 4), (2, 4), (3, 5), (3, 5), (4, 4), (3, 3)]\n",
            "2.0\n",
            "V\n",
            "[(1, 2), (0, 5), (2, 4), (2, 4), (3, 5), (3, 5), (4, 4), (3, 3)]\n",
            "1.0\n",
            "W (4, 3)\n",
            "[(1, 2), (0, 5), (2, 4), (2, 4), (3, 5), (3, 5), (4, 4), (3, 3)]\n",
            "1.0\n",
            "W (4, 2)\n",
            "[(1, 2), (0, 5), (2, 4), (2, 4), (3, 5), (3, 5), (4, 4), (3, 3), (3, 3)]\n",
            "1.0\n",
            "N (3, 2)\n",
            "[(1, 2), (0, 5), (2, 4), (2, 4), (3, 5), (3, 5), (4, 4), (3, 3), (3, 3), (4, 1)]\n",
            "1.0\n",
            "W (3, 1)\n",
            "[(1, 2), (0, 5), (2, 4), (2, 4), (3, 5), (3, 5), (4, 4), (3, 3), (3, 3), (4, 1), (3, 3), (2, 2)]\n",
            "1.0\n",
            "S (4, 1)\n",
            "[(1, 2), (0, 5), (2, 4), (2, 4), (3, 5), (3, 5), (4, 4), (3, 3), (3, 3), (4, 1), (3, 3), (2, 2), (2, 1), (3, 0)]\n",
            "1.0\n",
            "W (4, 0)\n",
            "[(1, 2), (0, 5), (2, 4), (2, 4), (3, 5), (3, 5), (4, 4), (3, 3), (3, 3), (4, 1), (3, 3), (2, 2), (2, 1), (3, 0)]\n",
            "1.0\n",
            "N (3, 0)\n",
            "[(1, 2), (0, 5), (2, 4), (2, 4), (3, 5), (3, 5), (4, 4), (3, 3), (3, 3), (4, 1), (3, 3), (2, 2), (2, 1), (3, 0)]\n",
            "1.0\n",
            "N (2, 0)\n",
            "[(1, 2), (0, 5), (2, 4), (2, 4), (3, 5), (3, 5), (4, 4), (3, 3), (3, 3), (4, 1), (3, 3), (2, 2), (2, 1), (3, 0)]\n",
            "1.0\n",
            "V\n",
            "[(1, 2), (0, 5), (2, 4), (2, 4), (3, 5), (3, 5), (4, 4), (3, 3), (3, 3), (4, 1), (3, 3), (2, 2), (2, 1), (3, 0)]\n",
            "0.0\n"
          ]
        }
      ]
    },
    {
      "cell_type": "code",
      "source": [],
      "metadata": {
        "id": "-XCq2CLxSso4"
      },
      "execution_count": 6,
      "outputs": []
    }
  ]
}