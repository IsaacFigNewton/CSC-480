{
  "nbformat": 4,
  "nbformat_minor": 0,
  "metadata": {
    "colab": {
      "provenance": [],
      "authorship_tag": "ABX9TyMTXp4SS+LOzkLx68c4w01b",
      "include_colab_link": true
    },
    "kernelspec": {
      "name": "python3",
      "display_name": "Python 3"
    },
    "language_info": {
      "name": "python"
    }
  },
  "cells": [
    {
      "cell_type": "markdown",
      "metadata": {
        "id": "view-in-github",
        "colab_type": "text"
      },
      "source": [
        "<a href=\"https://colab.research.google.com/github/IsaacFigNewton/CSC-480/blob/main/Revised_Roomba_Search.ipynb\" target=\"_parent\"><img src=\"https://colab.research.google.com/assets/colab-badge.svg\" alt=\"Open In Colab\"/></a>"
      ]
    },
    {
      "cell_type": "markdown",
      "source": [
        "# Config"
      ],
      "metadata": {
        "id": "SR7vlR6x1Bp4"
      }
    },
    {
      "cell_type": "code",
      "source": [
        "import networkx as nx\n",
        "import json\n",
        "import random\n",
        "import numpy as np\n",
        "import heapq as hq\n",
        "\n",
        "contents = \"\"\"7\n",
        "5\n",
        "_#a____\n",
        "___#__#\n",
        "*__#_*_\n",
        "_______\n",
        "____*__\n",
        "\"\"\"\n",
        "\n",
        "# save an offset map\n",
        "offset_map = {\n",
        "    # idx 0 => row offset\n",
        "    # idx 1 => col offset\n",
        "    \"N\": (-1, 0),\n",
        "    \"S\": (1, 0),\n",
        "    \"E\": (0, 1),\n",
        "    \"W\": (0, -1)\n",
        "}"
      ],
      "metadata": {
        "id": "ABAJPpSl1DuP"
      },
      "execution_count": 1,
      "outputs": []
    },
    {
      "cell_type": "markdown",
      "source": [
        "## Helpers"
      ],
      "metadata": {
        "id": "t2fLZ5zqws9Z"
      }
    },
    {
      "cell_type": "markdown",
      "source": [
        "## GameTree Class"
      ],
      "metadata": {
        "id": "7QTGXatXu-sJ"
      }
    },
    {
      "cell_type": "code",
      "source": [
        "# ensure the move is not OOB and not blocked by an obstacle\n",
        "def is_legal_move(world, current_pos, proposed_pos):\n",
        "  # check adjacency\n",
        "  if not (proposed_pos[0] - current_pos[0], proposed_pos[1] - current_pos[1]) in offset_map.values():\n",
        "    return False\n",
        "  # check if the row idx is OOB\n",
        "  if proposed_pos[0] < 0 or proposed_pos[0] >= world.num_rows:\n",
        "    return False\n",
        "  # check if the row idx is OOB\n",
        "  if proposed_pos[1] < 0 or proposed_pos[1] >= world.num_cols:\n",
        "    return False\n",
        "  # check for obstacles\n",
        "  if world.grid[proposed_pos[0]][proposed_pos[1]] == \"#\":\n",
        "    return False\n",
        "  return True"
      ],
      "metadata": {
        "id": "0MmTFxWbDYMu"
      },
      "execution_count": 2,
      "outputs": []
    },
    {
      "cell_type": "code",
      "source": [
        "class GameTreeNode:\n",
        "  def __init__(self, pos:tuple[int, int]):\n",
        "    self.pos = pos\n",
        "    # a set of child game states of the form:\n",
        "    #   (<edge type (N, S, E, W)>, <new GameTreeNode>)\n",
        "    self.children = set()\n",
        "\n",
        "  def __hash__(self):\n",
        "    return hash(self.pos)\n",
        "\n",
        "  def get_proposed_move_pos(self, move):\n",
        "    diff = offset_map[move]\n",
        "    return (\n",
        "        self.pos[0] + diff[0],\n",
        "        self.pos[1] + diff[1]\n",
        "    )\n",
        "\n",
        "  def expand_children(self, world: World):\n",
        "    # create a list of possible moves\n",
        "    possible_moves = {\n",
        "        move: self.get_proposed_move_pos(move)\n",
        "        for move in offset_map.keys()\n",
        "    }\n",
        "    # filter it down to a list of legal moves\n",
        "    for move, new_pos in possible_moves.items():\n",
        "      if is_legal_move(world, self.pos, new_pos):\n",
        "        self.children.add(Action(move, GameTreeNode(new_pos)))\n",
        "\n",
        "\n",
        "class Action:\n",
        "  def __init__(self, act_type:str, end_state:GameTreeNode):\n",
        "    self.act_type = act_type\n",
        "    self.end_state = end_state\n",
        "\n",
        "  def __hash__(self):\n",
        "    return hash(self.end_state.pos)\n",
        "\n",
        "\n",
        "class DecisionProcess:\n",
        "  def __init__(self, action_store, act_store_type:str):\n",
        "    self.act_store_type = act_store_type\n",
        "    self.action_store = action_store\n",
        "\n",
        "  def push(self, action:Action):\n",
        "    match self.act_store_type:\n",
        "      case \"stack\":\n",
        "        self.action_store.append(action)\n",
        "      case \"priority queue\":\n",
        "        self.action_store.heappush(action)\n",
        "\n",
        "  def pop(self):\n",
        "    match self.act_store_type:\n",
        "      case \"stack\":\n",
        "        return self.action_store.pop()\n",
        "      case \"priority queue\":\n",
        "        return self.action_store.heappop()\n",
        "\n",
        "  def remove(self, action:Action):\n",
        "    match self.act_store_type:\n",
        "      case \"stack\":\n",
        "        self.action_store.pop(action)\n",
        "      case \"priority queue\":\n",
        "        self.action_store.heappop(action)"
      ],
      "metadata": {
        "id": "F1ndcHEonCri"
      },
      "execution_count": 21,
      "outputs": []
    },
    {
      "cell_type": "code",
      "source": [
        "class World:\n",
        "  def __init__(self, file_contents:str):\n",
        "    world_lst = file_contents.split(\"\\n\")\n",
        "    self.num_cols = int(world_lst[0])\n",
        "    self.num_rows = int(world_lst[1])\n",
        "\n",
        "    self.grid = list()\n",
        "    self.dirty_cells = set()\n",
        "    for i, row in enumerate(world_lst[2:-1]):\n",
        "      self.grid.append(list())\n",
        "      for j, c in enumerate(row):\n",
        "        self.grid[i].append(c)\n",
        "        if c == \"*\":\n",
        "          self.dirty_cells.add((i, j))\n",
        "    print(\"Successfully loaded world:\")\n",
        "    for row in self.grid:\n",
        "      print(row)\n",
        "\n",
        "    self.policy_map = {\n",
        "        \"DFS\": DecisionProcess(list(), \"stack\"),\n",
        "        \"UCS\": DecisionProcess(hq.heapify(list()), \"priority queue\")\n",
        "    }\n",
        "\n",
        "  # depth-first search\n",
        "  def search(self, algorithm:str = \"DFS\"):\n",
        "    agent = Agent(world, self.policy_map[algorithm])\n",
        "\n",
        "    while self.dirty_cells:\n",
        "      agent.select_action()\n",
        "      # print([node[1].pos for node in agent.stack])\n",
        "      # print(agent.world.dirt_count)\n",
        "    print(f\"{agent.nodes_generated} nodes generated.\")\n",
        "    print(f\"{agent.nodes_expanded} nodes expanded.\")\n",
        "\n",
        "\n",
        "\n",
        "class Agent:\n",
        "  def __init__(self,\n",
        "               world: World,\n",
        "               act_selection_policy: DecisionProcess):\n",
        "    # vars for tracking position within game tree for DFS and UCS\n",
        "    self.world = world\n",
        "    self.dp = act_selection_policy\n",
        "    self.path = list()\n",
        "    self.pos = self.get_bot_pos_from_grid()\n",
        "    self.model = GameTreeNode(self.pos)\n",
        "    self.nodes_generated = 0\n",
        "    self.nodes_expanded = 0\n",
        "\n",
        "\n",
        "  def get_bot_pos_from_grid(self):\n",
        "    for row in range(self.world.num_rows):\n",
        "      for col in range(self.world.num_cols):\n",
        "        if self.world.grid[row][col] == \"a\":\n",
        "          return (row, col)\n",
        "    raise ValueError(\"No bot found in the grid\")\n",
        "\n",
        "\n",
        "  def select_action(self):\n",
        "      # if the bot is on dirt, clean it\n",
        "      if self.world.grid[self.pos[0]][self.pos[1]] == \"*\":\n",
        "          print(\"V\")\n",
        "          self.world.dirty_cells.remove(self.pos)\n",
        "          self.world.grid[self.pos[0]][self.pos[1]] = \"_\"\n",
        "          return\n",
        "\n",
        "      # add the current node to the path\n",
        "      self.path.append(self.pos)\n",
        "\n",
        "      # expand all the current node's children\n",
        "      self.model.expand_children(self.world)\n",
        "      self.nodes_expanded += 1\n",
        "      self.nodes_generated += len(self.model.children)\n",
        "      for child in self.model.children:\n",
        "        # add new, unexplored children to the set under consideration\n",
        "        if child.end_state.pos not in self.path:\n",
        "          self.dp.push(child)\n",
        "\n",
        "      # take the first available new move\n",
        "      next_move = self.dp.pop()\n",
        "      print(next_move.act_type)\n",
        "      # print(next_move[0], next_move[1].pos)\n",
        "      self.pos = next_move.end_state.pos\n",
        "      self.model = next_move.end_state"
      ],
      "metadata": {
        "id": "UCsYuoKXESZk"
      },
      "execution_count": 22,
      "outputs": []
    },
    {
      "cell_type": "markdown",
      "source": [
        "# Test DFS"
      ],
      "metadata": {
        "id": "rpRiDy1Iwv0s"
      }
    },
    {
      "cell_type": "code",
      "source": [
        "world = World(contents)"
      ],
      "metadata": {
        "colab": {
          "base_uri": "https://localhost:8080/"
        },
        "id": "uEBKBcciwx-3",
        "outputId": "bf43539c-3f28-491d-c62d-408aa7c23f91"
      },
      "execution_count": 23,
      "outputs": [
        {
          "output_type": "stream",
          "name": "stdout",
          "text": [
            "Successfully loaded world:\n",
            "['_', '#', 'a', '_', '_', '_', '_']\n",
            "['_', '_', '_', '#', '_', '_', '#']\n",
            "['*', '_', '_', '#', '_', '*', '_']\n",
            "['_', '_', '_', '_', '_', '_', '_']\n",
            "['_', '_', '_', '_', '*', '_', '_']\n"
          ]
        }
      ]
    },
    {
      "cell_type": "code",
      "source": [
        "world.search()"
      ],
      "metadata": {
        "colab": {
          "base_uri": "https://localhost:8080/"
        },
        "id": "scZrlNYB8f_d",
        "outputId": "fee02fbc-cb4e-4f47-cb32-510c8917de7e"
      },
      "execution_count": 24,
      "outputs": [
        {
          "output_type": "stream",
          "name": "stdout",
          "text": [
            "E\n",
            "E\n",
            "E\n",
            "S\n",
            "S\n",
            "V\n",
            "S\n",
            "E\n",
            "N\n",
            "S\n",
            "W\n",
            "W\n",
            "V\n",
            "W\n",
            "W\n",
            "W\n",
            "W\n",
            "N\n",
            "N\n",
            "V\n",
            "48 nodes generated.\n",
            "17 nodes expanded.\n"
          ]
        }
      ]
    },
    {
      "cell_type": "code",
      "source": [
        "for r in world.grid:\n",
        "  print(r)"
      ],
      "metadata": {
        "colab": {
          "base_uri": "https://localhost:8080/"
        },
        "id": "-XCq2CLxSso4",
        "outputId": "bc17398a-6a73-4b72-e62c-b20faae4df07"
      },
      "execution_count": 25,
      "outputs": [
        {
          "output_type": "stream",
          "name": "stdout",
          "text": [
            "['_', '#', 'a', '_', '_', '_', '_']\n",
            "['_', '_', '_', '#', '_', '_', '#']\n",
            "['_', '_', '_', '#', '_', '_', '_']\n",
            "['_', '_', '_', '_', '_', '_', '_']\n",
            "['_', '_', '_', '_', '_', '_', '_']\n"
          ]
        }
      ]
    }
  ]
}