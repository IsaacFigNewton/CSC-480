{
  "nbformat": 4,
  "nbformat_minor": 0,
  "metadata": {
    "colab": {
      "provenance": [],
      "authorship_tag": "ABX9TyPGYj1Vn7uOsiKd4PAZ2tZc",
      "include_colab_link": true
    },
    "kernelspec": {
      "name": "python3",
      "display_name": "Python 3"
    },
    "language_info": {
      "name": "python"
    }
  },
  "cells": [
    {
      "cell_type": "markdown",
      "metadata": {
        "id": "view-in-github",
        "colab_type": "text"
      },
      "source": [
        "<a href=\"https://colab.research.google.com/github/IsaacFigNewton/CSC-480/blob/main/Revised_Roomba_Search.ipynb\" target=\"_parent\"><img src=\"https://colab.research.google.com/assets/colab-badge.svg\" alt=\"Open In Colab\"/></a>"
      ]
    },
    {
      "cell_type": "markdown",
      "source": [
        "# Config"
      ],
      "metadata": {
        "id": "SR7vlR6x1Bp4"
      }
    },
    {
      "cell_type": "code",
      "source": [
        "import networkx as nx\n",
        "import json\n",
        "import random\n",
        "import numpy as np\n",
        "\n",
        "contents = \"\"\"7\n",
        "5\n",
        "_#a____\n",
        "___#__#\n",
        "*__#_*_\n",
        "_______\n",
        "____*__\n",
        "\"\"\"\n",
        "\n",
        "# save an offset map\n",
        "offset_map = {\n",
        "    # idx 0 => row offset\n",
        "    # idx 1 => col offset\n",
        "    \"N\": (-1, 0),\n",
        "    \"S\": (1, 0),\n",
        "    \"E\": (0, 1),\n",
        "    \"W\": (0, -1)\n",
        "}"
      ],
      "metadata": {
        "id": "ABAJPpSl1DuP"
      },
      "execution_count": 5,
      "outputs": []
    },
    {
      "cell_type": "markdown",
      "source": [
        "## Helpers"
      ],
      "metadata": {
        "id": "t2fLZ5zqws9Z"
      }
    },
    {
      "cell_type": "markdown",
      "source": [
        "## GameTree Class"
      ],
      "metadata": {
        "id": "7QTGXatXu-sJ"
      }
    },
    {
      "cell_type": "code",
      "source": [
        "class World:\n",
        "  def __init__(self, file_contents:str):\n",
        "    world_lst = file_contents.split(\"\\n\")\n",
        "    self.num_cols = int(world_lst[0])\n",
        "    self.num_rows = int(world_lst[1])\n",
        "    self.grid = [[c for c in row] for row in world_lst[2:-1]]\n",
        "    self.dirt_count = np.sum([np.sum([1 for c in row if c == \"*\"]) for row in self.grid])\n",
        "\n",
        "    print(\"Successfully loaded world:\")\n",
        "    for row in self.grid:\n",
        "      print(row)\n",
        "\n",
        "\n",
        "  # ensure the move is not OOB and not blocked by an obstacle\n",
        "  def is_legal_move(self, current_pos, proposed_pos):\n",
        "    is_adjacent = (proposed_pos[0] - current_pos[0], proposed_pos[1] - current_pos[1]) in offset_map.values()\n",
        "    is_OOB_row = proposed_pos[0] < 0 or proposed_pos[0] >= self.num_rows\n",
        "    is_OOB_col = proposed_pos[1] < 0 or proposed_pos[1] >= self.num_cols\n",
        "    is_blocked = self.grid[proposed_pos[0]][proposed_pos[1]] == \"#\"\n",
        "    return not is_OOB_row and not is_OOB_col and not is_blocked"
      ],
      "metadata": {
        "id": "0MmTFxWbDYMu"
      },
      "execution_count": 16,
      "outputs": []
    },
    {
      "cell_type": "code",
      "source": [
        "class Agent:\n",
        "  def __init__(self, world: World):\n",
        "    # vars for tracking position within game tree for DFS and UCS\n",
        "    self.world = world\n",
        "    self.stack = list()\n",
        "    self.path = list()\n",
        "    self.pos = self.get_bot_pos_from_grid()\n",
        "    # configure the list of preferred moves\n",
        "    self.children = dict()\n",
        "    self.expand_children()\n",
        "\n",
        "\n",
        "  def get_bot_pos_from_grid(self):\n",
        "    for row in range(self.world.num_rows):\n",
        "      for col in range(self.world.num_cols):\n",
        "        if self.world.grid[row][col] == \"a\":\n",
        "          return (row, col)\n",
        "    raise ValueError(\"No bot found in the grid\")\n",
        "\n",
        "\n",
        "  def get_proposed_move_pos(self, move):\n",
        "    diff = offset_map[move]\n",
        "    return (\n",
        "        self.pos[0] + diff[0],\n",
        "        self.pos[1] + diff[1]\n",
        "    )\n",
        "\n",
        "\n",
        "  def expand_children(self):\n",
        "    # create a list of possible moves\n",
        "    possible_moves = {\n",
        "        move: self.get_proposed_move_pos(move)\n",
        "        for move in offset_map.keys()\n",
        "    }\n",
        "    # filter it down to a set of legal moves\n",
        "    legal_moves = {\n",
        "        move: new_pos for move, new_pos in possible_moves.items()\n",
        "        if self.world.is_legal_move(self.pos, new_pos)\n",
        "    }\n",
        "    # filter it down to a set of preferred moves\n",
        "    #   ie moves to locations/positions not previously visited\n",
        "    for move, new_pos in legal_moves.items():\n",
        "      if new_pos not in self.path:\n",
        "        # add the move to the current node's dict of children\n",
        "        self.children[move] = new_pos\n",
        "        # add the child to the stack\n",
        "        self.stack.append(new_pos)\n",
        "    print(self.children)\n",
        "\n",
        "\n",
        "  def select_action(self):\n",
        "    # if the bot's over dirt, vacuum it up\n",
        "    if self.world.grid[self.pos[0]][self.pos[1]] == \"*\":\n",
        "      print(\"V\")\n",
        "      # update the game environment\n",
        "      self.world.grid[self.pos[0]][self.pos[1]] = \"_\"\n",
        "      dirt_count = dirt_count - 1\n",
        "      print(f\"dirt left: {dirt_count}\")\n",
        "\n",
        "    self.path.append(self.pos)\n",
        "    # select the first available preferred move\n",
        "    #   or pop an adjacent node from the stack\n",
        "    #   or backtrack by 1 node\n",
        "    chosen_move = list(self.children.items())[0]\n",
        "    print(chosen_move)\n",
        "    chosen_move = chosen_move or (\n",
        "                      self.stack.pop()\n",
        "                      if world.is_legal_move(self.pos, self.stack[-1])\n",
        "                      else None\n",
        "                  )\n",
        "    print(chosen_move)\n",
        "    chosen_move = chosen_move or self.path[-2]\n",
        "    print(chosen_move)\n",
        "    # update bot's location\n",
        "    self.pos = chosen_move[1]"
      ],
      "metadata": {
        "id": "UCsYuoKXESZk"
      },
      "execution_count": 17,
      "outputs": []
    },
    {
      "cell_type": "markdown",
      "source": [
        "# Test DFS"
      ],
      "metadata": {
        "id": "rpRiDy1Iwv0s"
      }
    },
    {
      "cell_type": "code",
      "source": [
        "world = World(contents)\n",
        "agent = Agent(world)"
      ],
      "metadata": {
        "colab": {
          "base_uri": "https://localhost:8080/"
        },
        "id": "uEBKBcciwx-3",
        "outputId": "49aa2369-4522-4cc6-bc04-726636350de5"
      },
      "execution_count": 18,
      "outputs": [
        {
          "output_type": "stream",
          "name": "stdout",
          "text": [
            "Successfully loaded world:\n",
            "['_', '#', 'a', '_', '_', '_', '_']\n",
            "['_', '_', '_', '#', '_', '_', '#']\n",
            "['*', '_', '_', '#', '_', '*', '_']\n",
            "['_', '_', '_', '_', '_', '_', '_']\n",
            "['_', '_', '_', '_', '*', '_', '_']\n",
            "{'S': (1, 2), 'E': (0, 3)}\n"
          ]
        }
      ]
    },
    {
      "cell_type": "code",
      "source": [
        "i = 10\n",
        "while world.dirt_count > 0 and i > 0:\n",
        "  agent.select_action()\n",
        "  i -= 1"
      ],
      "metadata": {
        "colab": {
          "base_uri": "https://localhost:8080/"
        },
        "id": "scZrlNYB8f_d",
        "outputId": "b651675c-93f2-4ed9-d0b4-a799a972fc0a"
      },
      "execution_count": 22,
      "outputs": [
        {
          "output_type": "stream",
          "name": "stdout",
          "text": [
            "('S', (1, 2))\n",
            "('S', (1, 2))\n",
            "('S', (1, 2))\n",
            "('S', (1, 2))\n",
            "('S', (1, 2))\n",
            "('S', (1, 2))\n",
            "('S', (1, 2))\n",
            "('S', (1, 2))\n",
            "('S', (1, 2))\n",
            "('S', (1, 2))\n",
            "('S', (1, 2))\n",
            "('S', (1, 2))\n",
            "('S', (1, 2))\n",
            "('S', (1, 2))\n",
            "('S', (1, 2))\n",
            "('S', (1, 2))\n",
            "('S', (1, 2))\n",
            "('S', (1, 2))\n",
            "('S', (1, 2))\n",
            "('S', (1, 2))\n",
            "('S', (1, 2))\n",
            "('S', (1, 2))\n",
            "('S', (1, 2))\n",
            "('S', (1, 2))\n",
            "('S', (1, 2))\n",
            "('S', (1, 2))\n",
            "('S', (1, 2))\n",
            "('S', (1, 2))\n",
            "('S', (1, 2))\n",
            "('S', (1, 2))\n"
          ]
        }
      ]
    },
    {
      "cell_type": "code",
      "source": [],
      "metadata": {
        "id": "Y7MDkVJiNY5o"
      },
      "execution_count": null,
      "outputs": []
    }
  ]
}