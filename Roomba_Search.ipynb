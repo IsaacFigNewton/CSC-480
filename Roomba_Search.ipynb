{
  "nbformat": 4,
  "nbformat_minor": 0,
  "metadata": {
    "colab": {
      "provenance": [],
      "authorship_tag": "ABX9TyM+NA7itwA3Hi4ipMfYkUbY",
      "include_colab_link": true
    },
    "kernelspec": {
      "name": "python3",
      "display_name": "Python 3"
    },
    "language_info": {
      "name": "python"
    }
  },
  "cells": [
    {
      "cell_type": "markdown",
      "metadata": {
        "id": "view-in-github",
        "colab_type": "text"
      },
      "source": [
        "<a href=\"https://colab.research.google.com/github/IsaacFigNewton/CSC-480/blob/main/Roomba_Search.ipynb\" target=\"_parent\"><img src=\"https://colab.research.google.com/assets/colab-badge.svg\" alt=\"Open In Colab\"/></a>"
      ]
    },
    {
      "cell_type": "markdown",
      "source": [
        "# Config"
      ],
      "metadata": {
        "id": "SR7vlR6x1Bp4"
      }
    },
    {
      "cell_type": "code",
      "source": [
        "import networkx as nx\n",
        "import json\n",
        "import random\n",
        "\n",
        "contents = \"\"\"7\n",
        "5\n",
        "_#a____\n",
        "___#__#\n",
        "*__#_*_\n",
        "_______\n",
        "____*__\n",
        "\"\"\""
      ],
      "metadata": {
        "id": "ABAJPpSl1DuP"
      },
      "execution_count": 169,
      "outputs": []
    },
    {
      "cell_type": "markdown",
      "source": [
        "## WorldState Class"
      ],
      "metadata": {
        "id": "zS0owmXfC7pq"
      }
    },
    {
      "cell_type": "code",
      "source": [
        "class WorldState:\n",
        "\n",
        "  def __init__(self, file_contents:str):\n",
        "    self.initial_state = file_contents\n",
        "    world_lst = file_contents.split(\"\\n\")\n",
        "    world = {\n",
        "        \"cols\": int(world_lst[0]),\n",
        "        \"rows\": int(world_lst[1]),\n",
        "        \"grid\": world_lst[2:-1]\n",
        "    }\n",
        "    print(\"Successfully loaded world:\")\n",
        "    print(json.dumps(world, indent=4))\n",
        "\n",
        "    # make a grid graph of the same dims as the input world's file\n",
        "    g = nx.grid_2d_graph(world[\"rows\"], world[\"cols\"])\n",
        "    # label each node with the corresponding char from the input text\n",
        "    # mark the node as clean if it's not explicitly dirty in the original file\n",
        "    attribute_map = {\n",
        "      n: {\n",
        "        \"type\": world[\"grid\"][n[0]][n[1]],\n",
        "        \"clean\": False if world[\"grid\"][n[0]][n[1]] == \"*\" else True\n",
        "      } for n in g.nodes\n",
        "    }\n",
        "    nx.set_node_attributes(\n",
        "        g,\n",
        "        attribute_map\n",
        "    )\n",
        "    self.g = g\n",
        "\n",
        "    # set the label and node positions so graph looks the same each iteration\n",
        "    self.pos = {n:n for n in self.g.nodes}\n",
        "\n",
        "    # initialize the bot's position in the world\n",
        "    self.bot_pos = None\n",
        "    for n, attrs in self.g.nodes(data=True):\n",
        "      if attrs[\"type\"] == \"a\":\n",
        "        self.bot_pos = n\n",
        "        break\n",
        "    if not self.bot_pos:\n",
        "      raise ValueError(\"No bot found in graph file provided.\")\n",
        "\n",
        "    # save an offset map\n",
        "    self.offset_map = {\n",
        "        \"N\": (0, 1),\n",
        "        \"S\": (0, -1),\n",
        "        \"E\": (1, 0),\n",
        "        \"W\": (-1, 0),\n",
        "        \"V\": (0, 0)\n",
        "    }\n",
        "\n",
        "\n",
        "  def copy(self):\n",
        "    new_world = WorldState(self.initial_state)\n",
        "    new_world.g = self.g\n",
        "    new_world.pos = self.pos\n",
        "    new_world.bot_pos = self.bot_pos\n",
        "    return new_world\n",
        "\n",
        "\n",
        "  def is_legal_move(self, move):\n",
        "    if move == \"V\" and self.g.nodes[self.bot_pos][\"clean\"] == False:\n",
        "      return True\n",
        "\n",
        "    diff = self.offset_map[move]\n",
        "    proposed_move = (\n",
        "        self.bot_pos[0] + diff[0],\n",
        "        self.bot_pos[1] + diff[1]\n",
        "    )\n",
        "    if proposed_move in self.g.neighbors(self.bot_pos):\n",
        "        proposed_node_attributes = nx.get_node_attributes(self.g, \"type\")\n",
        "        return proposed_node_attributes[proposed_move] != \"#\"\n",
        "    return False\n",
        "\n",
        "\n",
        "  def get_legal_moves(self):\n",
        "    legal_moves = [\n",
        "        move for move in self.offset_map.keys()\\\n",
        "        if self.is_legal_move(move)\n",
        "    ]\n",
        "    return legal_moves\n",
        "\n",
        "\n",
        "  # get the node that has the specified offset from the bot's current location\n",
        "  def get_new_pos(self, move: chr):\n",
        "    if self.is_legal_move(move):\n",
        "      diff = self.offset_map[move]\n",
        "      return (\n",
        "          self.bot_pos[0] + diff[0],\n",
        "          self.bot_pos[1] + diff[1]\n",
        "      )\n",
        "    else:\n",
        "      raise ValueError(f\"invalid move '{move}' for position {self.bot_pos}\")\n",
        "\n",
        "\n",
        "  def move_bot_to_pos(self, new_pos: tuple):\n",
        "    if self.g.nodes[self.bot_pos][\"type\"] != \"a\":\n",
        "      raise KeyError(f\"bot not found at node {self.bot_pos}\")\n",
        "\n",
        "    # update world tile attributes\n",
        "    nx.set_node_attributes(self.g, {\n",
        "        # update the type of the previous node\n",
        "        # mark it as a clean tile type if it was marked as clean\n",
        "        #   otherwise, mark and leave it as dirty\n",
        "        self.bot_pos: {\n",
        "            \"type\": \"_\" if self.g.nodes[self.bot_pos][\"clean\"] else \"*\",\n",
        "            \"clean\": self.g.nodes[self.bot_pos][\"clean\"]\n",
        "        },\n",
        "        # update the type of the new node to indicate the bot's presence\n",
        "        new_pos: {\n",
        "            \"type\": \"a\",\n",
        "            \"clean\": self.g.nodes[new_pos][\"clean\"]\n",
        "        }\n",
        "    })\n",
        "\n",
        "    # update the bot's location being tracked\n",
        "    self.bot_pos = new_pos\n",
        "\n",
        "\n",
        "  def take_action(self, move:chr):\n",
        "    if self.is_legal_move(move):\n",
        "      # if the bot opts to vaccuum, update the attributes of its current node\n",
        "      if move == \"V\":\n",
        "        nx.set_node_attributes(self.g, {\n",
        "            self.bot_pos: {\n",
        "                \"type\": self.g.nodes[self.bot_pos][\"type\"],\n",
        "                \"clean\": True\n",
        "            }\n",
        "        })\n",
        "      else:\n",
        "        self.move_bot_to_pos(self.get_new_pos(move))\n",
        "    else:\n",
        "      raise ValueError(f\"invalid move '{move}' for position {self.bot_pos}\")\n",
        "\n",
        "\n",
        "  def random_walk(self):\n",
        "    nodes_generated = 0\n",
        "    nodes_expanded = 0\n",
        "    # while not all the tiles are marked as 'clean'\n",
        "    while not all(nx.get_node_attributes(self.g, \"clean\").values()):\n",
        "      legal_moves = self.get_legal_moves()\n",
        "      selected_move = legal_moves[random.randint(0, len(legal_moves)-1)]\n",
        "      nodes_generated += len(legal_moves)\n",
        "      nodes_expanded += 1\n",
        "      print(selected_move)\n",
        "      self.take_action(selected_move)\n",
        "    print(nodes_generated)\n",
        "    print(nodes_expanded)\n",
        "\n",
        "\n",
        "  def dfs(self):\n",
        "      nodes_generated = 0\n",
        "      nodes_expanded = 0\n",
        "\n",
        "      # Use a stack for DFS: (position, path_taken)\n",
        "      stack = [(self.bot_pos, [])]\n",
        "      visited = set()\n",
        "\n",
        "      while stack and not all(nx.get_node_attributes(self.g, \"clean\").values()):\n",
        "          current_pos, path = stack.pop()\n",
        "          visited.add(current_pos)\n",
        "          nodes_expanded += 1\n",
        "\n",
        "          # Explore neighbors or vaccuum\n",
        "          for move in [\"N\", \"S\", \"E\", \"W\", \"V\"]:\n",
        "              if self.is_legal_move(move):\n",
        "                  new_pos = self.get_new_pos(move)\n",
        "                  if new_pos not in visited:\n",
        "                      copy = self.copy()\n",
        "                      self.take_action(move)\n",
        "                      stack.append((new_pos, path + [move]))\n",
        "                      nodes_generated += 1\n",
        "\n",
        "      print(path)\n",
        "      print(nodes_generated)\n",
        "      print(nodes_expanded)\n",
        "\n",
        "\n",
        "  def draw(self):\n",
        "    nx.draw(\n",
        "      self.g,\n",
        "      pos=self.pos\n",
        "    )\n",
        "    nx.draw_networkx_labels(\n",
        "        self.g,\n",
        "        pos=self.pos,\n",
        "        labels={n: self.g.nodes[n][\"type\"] for n in self.g.nodes}\n",
        "    )"
      ],
      "metadata": {
        "id": "RjJ8cddFGkw7"
      },
      "execution_count": 204,
      "outputs": []
    },
    {
      "cell_type": "markdown",
      "source": [
        "# Test WorldState Creation"
      ],
      "metadata": {
        "id": "lJE8GinRVxSR"
      }
    },
    {
      "cell_type": "code",
      "source": [
        "world = WorldState(contents)\n",
        "world.draw()"
      ],
      "metadata": {
        "colab": {
          "base_uri": "https://localhost:8080/",
          "height": 724
        },
        "id": "JjSjeJxeUHrH",
        "outputId": "6c34975e-6c76-4d4b-d815-2ebfe9d18c0e"
      },
      "execution_count": 200,
      "outputs": [
        {
          "output_type": "stream",
          "name": "stdout",
          "text": [
            "Successfully loaded world:\n",
            "{\n",
            "    \"cols\": 7,\n",
            "    \"rows\": 5,\n",
            "    \"grid\": [\n",
            "        \"_#a____\",\n",
            "        \"___#__#\",\n",
            "        \"*__#_*_\",\n",
            "        \"_______\",\n",
            "        \"____*__\"\n",
            "    ]\n",
            "}\n"
          ]
        },
        {
          "output_type": "display_data",
          "data": {
            "text/plain": [
              "<Figure size 640x480 with 1 Axes>"
            ],
            "image/png": "[encoded data removed]"
          },
          "metadata": {}
        }
      ]
    },
    {
      "cell_type": "code",
      "source": [
        "world.dfs()"
      ],
      "metadata": {
        "colab": {
          "base_uri": "https://localhost:8080/"
        },
        "id": "kJORuaIxg6LP",
        "outputId": "863a25ee-b465-43cb-c343-40850ceec690"
      },
      "execution_count": 201,
      "outputs": [
        {
          "output_type": "stream",
          "name": "stdout",
          "text": [
            "['N']\n",
            "3\n",
            "4\n"
          ]
        }
      ]
    },
    {
      "cell_type": "code",
      "source": [
        "world.draw()"
      ],
      "metadata": {
        "colab": {
          "base_uri": "https://localhost:8080/",
          "height": 516
        },
        "id": "47X-0nseju00",
        "outputId": "646e0cb7-5f26-45ea-d723-ef6e3ef4c505"
      },
      "execution_count": 202,
      "outputs": [
        {
          "output_type": "display_data",
          "data": {
            "text/plain": [
              "<Figure size 640x480 with 1 Axes>"
            ],
            "image/png": "[encoded data removed]"
          },
          "metadata": {}
        }
      ]
    },
    {
      "cell_type": "code",
      "source": [],
      "metadata": {
        "id": "bkHAjP4XlLlv"
      },
      "execution_count": null,
      "outputs": []
    }
  ]
}